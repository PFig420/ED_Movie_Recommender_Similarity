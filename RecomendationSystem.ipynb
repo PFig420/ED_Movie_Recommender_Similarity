{
 "cells": [
  {
   "cell_type": "code",
   "execution_count": 1,
   "id": "d676d9fc",
   "metadata": {},
   "outputs": [],
   "source": [
    "import numpy as np\n",
    "import pandas as pd\n",
    "import matplotlib.pyplot as plt\n",
    "from funk_svd.dataset import fetch_ml_ratings\n",
    "from funk_svd import SVD\n",
    "from sklearn.metrics import mean_absolute_error, mean_squared_error\n",
    "import math"
   ]
  },
  {
   "cell_type": "markdown",
   "id": "b6c5b4b2",
   "metadata": {},
   "source": [
    "# Load User Data"
   ]
  },
  {
   "cell_type": "code",
   "execution_count": 4,
   "id": "1bbf74c6",
   "metadata": {},
   "outputs": [
    {
     "name": "stdout",
     "output_type": "stream",
     "text": [
      "   uid  age sex         job zipcode\n",
      "0    1   24   M  technician   85711\n",
      "1    2   53   F       other   94043\n",
      "2    3   23   M      writer   32067\n",
      "3    4   24   M  technician   43537\n",
      "4    5   33   F       other   15213\n"
     ]
    }
   ],
   "source": [
    "user_data = pd.read_csv('ml-100k/u.user' , sep='|', header=None , names=[\"uid\", \"age\", \"sex\" ,\"job\", \"zipcode\"])\n",
    "#user_data.describe()\n",
    "print(user_data.head())"
   ]
  },
  {
   "cell_type": "markdown",
   "id": "21de405b",
   "metadata": {},
   "source": [
    "# Load Movie Data"
   ]
  },
  {
   "cell_type": "code",
   "execution_count": 5,
   "id": "4ff210c5",
   "metadata": {},
   "outputs": [
    {
     "name": "stdout",
     "output_type": "stream",
     "text": [
      "   movieid              title release_date  video_release_date  \\\n",
      "0        1   Toy Story (1995)  01-Jan-1995                 NaN   \n",
      "1        2   GoldenEye (1995)  01-Jan-1995                 NaN   \n",
      "2        3  Four Rooms (1995)  01-Jan-1995                 NaN   \n",
      "3        4  Get Shorty (1995)  01-Jan-1995                 NaN   \n",
      "4        5     Copycat (1995)  01-Jan-1995                 NaN   \n",
      "\n",
      "                                                imdb  unknown  action  \\\n",
      "0  http://us.imdb.com/M/title-exact?Toy%20Story%2...        0       0   \n",
      "1  http://us.imdb.com/M/title-exact?GoldenEye%20(...        0       1   \n",
      "2  http://us.imdb.com/M/title-exact?Four%20Rooms%...        0       0   \n",
      "3  http://us.imdb.com/M/title-exact?Get%20Shorty%...        0       1   \n",
      "4  http://us.imdb.com/M/title-exact?Copycat%20(1995)        0       0   \n",
      "\n",
      "   adventure  animation  children  ...  fantasy  noir  horror  musical  \\\n",
      "0          0          1         1  ...        0     0       0        0   \n",
      "1          1          0         0  ...        0     0       0        0   \n",
      "2          0          0         0  ...        0     0       0        0   \n",
      "3          0          0         0  ...        0     0       0        0   \n",
      "4          0          0         0  ...        0     0       0        0   \n",
      "\n",
      "   mistery  romance  scifi  thriller  war  western  \n",
      "0        0        0      0         0    0        0  \n",
      "1        0        0      0         1    0        0  \n",
      "2        0        0      0         1    0        0  \n",
      "3        0        0      0         0    0        0  \n",
      "4        0        0      0         1    0        0  \n",
      "\n",
      "[5 rows x 24 columns]\n"
     ]
    }
   ],
   "source": [
    "movies_data = pd.read_csv('ml-100k/u.item' , sep='|', header=None , names=[\"movieid\", \"title\" ,\"release_date\", \"video_release_date\", \"imdb\", \"unknown\", \"action\", \"adventure\", \"animation\", \"children\", \"comedy\", \"crime\", \"documnetary\", \"drama\", \"fantasy\", \"noir\", \"horror\", \"musical\", \"mistery\", \"romance\", \"scifi\", \"thriller\", \"war\", \"western\"])\n",
    "print(movies_data.head())"
   ]
  },
  {
   "cell_type": "markdown",
   "id": "c32da1f3",
   "metadata": {},
   "source": [
    "# Load Ratings Data"
   ]
  },
  {
   "cell_type": "code",
   "execution_count": 6,
   "id": "15272ae7",
   "metadata": {},
   "outputs": [
    {
     "name": "stdout",
     "output_type": "stream",
     "text": [
      "   user_id  movie_id  rating  timestamp\n",
      "0      196       242       3  881250949\n",
      "1      186       302       3  891717742\n",
      "2       22       377       1  878887116\n",
      "3      244        51       2  880606923\n",
      "4      166       346       1  886397596\n"
     ]
    }
   ],
   "source": [
    "# Ratings\n",
    "r_cols = ['user_id', 'movie_id', 'rating', 'timestamp']\n",
    "\n",
    "ratings = pd.read_csv(\"ml-100k/u.data\", sep=\"\\t\", names=r_cols, encoding='latin-1')\n",
    "\n",
    "print(ratings.head())"
   ]
  },
  {
   "cell_type": "markdown",
   "id": "882329af",
   "metadata": {},
   "source": [
    "# Sparsity"
   ]
  },
  {
   "cell_type": "markdown",
   "id": "f63014e3",
   "metadata": {},
   "source": [
    "The Sparsity of a matrix is measured by the number of cells that do not have a value (meaning . As it can be seen below, the matrix of ratings in this dataset is going to be very sparse, having a sparsity of 93.7%, which means that the majority of users only rated a small percentage of the movies."
   ]
  },
  {
   "cell_type": "code",
   "execution_count": 7,
   "id": "c7c917c4",
   "metadata": {},
   "outputs": [
    {
     "name": "stdout",
     "output_type": "stream",
     "text": [
      "Sparsity: 0.937\n"
     ]
    }
   ],
   "source": [
    "sparsity = 1 - len(ratings) / (len(user_data) * len(movies_data))\n",
    "print(f\"Sparsity: {sparsity:.3f}\")"
   ]
  },
  {
   "cell_type": "markdown",
   "id": "0b7cce68",
   "metadata": {},
   "source": [
    "# Data Analysis"
   ]
  },
  {
   "cell_type": "code",
   "execution_count": 10,
   "id": "1f9bcf6f",
   "metadata": {},
   "outputs": [
    {
     "data": {
      "image/png": "[encoded data removed]",
      "text/plain": [
       "<Figure size 432x288 with 1 Axes>"
      ]
     },
     "metadata": {
      "needs_background": "light"
     },
     "output_type": "display_data"
    }
   ],
   "source": [
    "plt.hist(ratings.rating, ec='black', bins=[0.5, 1.5, 2.5, 3.5, 4.5, 5.5])\n",
    "plt.xlabel(\"Rating\")\n",
    "plt.ylabel(\"Number of Ratings\")\n",
    "plt.title(\"Distribution of Ratings\")\n",
    "plt.xticks([1, 2, 3, 4, 5])\n",
    "plt.show()"
   ]
  },
  {
   "cell_type": "markdown",
   "id": "ada6c6f6",
   "metadata": {},
   "source": [
    "# Construct Matrix"
   ]
  },
  {
   "cell_type": "code",
   "execution_count": 11,
   "id": "c5e76847",
   "metadata": {},
   "outputs": [
    {
     "name": "stdout",
     "output_type": "stream",
     "text": [
      "(943, 1682)\n",
      "movie_id    1    2    3    4    5\n",
      "user_id                          \n",
      "1         5.0  3.0  4.0  3.0  3.0\n",
      "2         4.0  NaN  NaN  NaN  NaN\n",
      "3         NaN  NaN  NaN  NaN  NaN\n",
      "4         NaN  NaN  NaN  NaN  NaN\n",
      "5         4.0  3.0  NaN  NaN  NaN\n"
     ]
    }
   ],
   "source": [
    "ratings_matrix = ratings.pivot(index=\"user_id\", columns=\"movie_id\", values=\"rating\")\n",
    "\n",
    "print(ratings_matrix.shape)\n",
    "print(ratings_matrix.iloc[:5, :5])\n"
   ]
  },
  {
   "cell_type": "markdown",
   "id": "5fbc4170",
   "metadata": {},
   "source": [
    "As it can be seen above, there are NaN entries on the matrix, which need to be replaced by some other value in order to perform the approach we intend to use.\n",
    "\n",
    "There are several approaches to this problem, such as replacing with zero value, or average of all ratings, or even the average rating of a user."
   ]
  },
  {
   "cell_type": "code",
   "execution_count": 12,
   "id": "68b50bad",
   "metadata": {},
   "outputs": [
    {
     "name": "stdout",
     "output_type": "stream",
     "text": [
      "3.52986\n",
      "movie_id        1        2        3        4        5\n",
      "user_id                                              \n",
      "1         5.00000  3.00000  4.00000  3.00000  3.00000\n",
      "2         4.00000  3.52986  3.52986  3.52986  3.52986\n",
      "3         3.52986  3.52986  3.52986  3.52986  3.52986\n",
      "4         3.52986  3.52986  3.52986  3.52986  3.52986\n",
      "5         4.00000  3.00000  3.52986  3.52986  3.52986\n",
      "movie_id    1    2    3    4    5\n",
      "user_id                          \n",
      "1         5.0  3.0  4.0  3.0  3.0\n",
      "2         4.0  0.0  0.0  0.0  0.0\n",
      "3         0.0  0.0  0.0  0.0  0.0\n",
      "4         0.0  0.0  0.0  0.0  0.0\n",
      "5         4.0  3.0  0.0  0.0  0.0\n"
     ]
    }
   ],
   "source": [
    "mean_rating = np.mean(ratings.rating)\n",
    "print(mean_rating)\n",
    "ratings_matrix_mean = ratings_matrix.fillna(mean_rating)\n",
    "print(ratings_matrix_mean.iloc[:5, :5])\n",
    "\n",
    "ratings_matrix = ratings_matrix.fillna(0)\n",
    "print(ratings_matrix.iloc[:5, :5]) #this is the matrix we will use henceforth"
   ]
  },
  {
   "cell_type": "markdown",
   "id": "0831f910",
   "metadata": {},
   "source": [
    "# SVD"
   ]
  },
  {
   "cell_type": "markdown",
   "id": "7852e026",
   "metadata": {},
   "source": [
    "The SVD, Singular Value decomposition, its a technique that allows the factorization of the matrix data into a multiplication between three matrices, U, Sigma and V. The columns of the matrix U are considered the singular vectors on the left and the columns of the matrix V are the singular vectors on the right. Sigma has the singular values diagonally. SVD contains some important properties:\n",
    "\n",
    "    - It is always possible to decompose any matrix A into three matrices: U, Sigma and V.\n",
    "    - U, Sigma and V are always unique matrices, which means that a set of U, Sigma and V represents a single matrix A.\n",
    "    - U and V have orthonormal columns, which means that by multiplying the transpose of U with U, an identity matrix is ​​obtained.\n",
    "    - The sigma matrix is diagonal, which means that all non-diagonal values have zero value. The diagonal entries of this matrix are always positive, and by convention they are sorted in descending order.\n"
   ]
  },
  {
   "cell_type": "code",
   "execution_count": 13,
   "id": "601bceaf",
   "metadata": {},
   "outputs": [
    {
     "name": "stdout",
     "output_type": "stream",
     "text": [
      "U:           0         1         2         3         4\n",
      "0 -0.065804  0.005975 -0.006133  0.084347 -0.014188\n",
      "1 -0.014021 -0.046626  0.052579 -0.016282  0.015467\n",
      "2 -0.005658 -0.025618  0.023362 -0.028564 -0.044057\n",
      "3 -0.005993 -0.020698  0.012452 -0.019697 -0.025116\n",
      "4 -0.032747  0.009159 -0.046131  0.014407 -0.010518\n",
      "S:             0\n",
      "0  640.633623\n",
      "1  244.836346\n",
      "2  217.846225\n",
      "3  159.153599\n",
      "4  158.211914\n",
      "VT:           0         1         2         3         4\n",
      "0 -0.095951 -0.035180 -0.019929 -0.059952 -0.021607\n",
      "1 -0.087240 -0.007025 -0.028618  0.013050 -0.015311\n",
      "2 -0.016974 -0.062504 -0.011641 -0.026446 -0.026460\n",
      "3  0.016206  0.003234  0.048801  0.043000  0.017901\n",
      "4  0.140506 -0.040758 -0.004402 -0.038221 -0.015655\n",
      "(943, 943)\n",
      "(943,)\n",
      "(943, 1682)\n"
     ]
    }
   ],
   "source": [
    "#TODO:\n",
    "# Get a few data for tests and then replace on train matrix\n",
    "# also do ratings_matrix = ratings_matrix.fillna(x) with x equal to the mean global rating\n",
    "# and then predict for a trained rating and untrained rating\n",
    "\n",
    "U, S, VT = np.linalg.svd(ratings_matrix, full_matrices=False)\n",
    "\n",
    "print(\"Matrices for ratings\")\n",
    "print(f\"U: {pd.DataFrame(U).iloc[:5, :5]}\")\n",
    "print(f\"S: {pd.DataFrame(S).iloc[:5, :]}\")\n",
    "print(f\"VT: {pd.DataFrame(VT).iloc[:5, :5]}\")\n",
    "print(U.shape)\n",
    "print(S.shape)\n",
    "print(VT.shape)\n"
   ]
  },
  {
   "cell_type": "code",
   "execution_count": null,
   "id": "737ab921",
   "metadata": {},
   "outputs": [],
   "source": []
  }
 ],
 "metadata": {
  "kernelspec": {
   "display_name": "Python 3 (ipykernel)",
   "language": "python",
   "name": "python3"
  },
  "language_info": {
   "codemirror_mode": {
    "name": "ipython",
    "version": 3
   },
   "file_extension": ".py",
   "mimetype": "text/x-python",
   "name": "python",
   "nbconvert_exporter": "python",
   "pygments_lexer": "ipython3",
   "version": "3.9.7"
  },
  "vscode": {
   "interpreter": {
    "hash": "916dbcbb3f70747c44a77c7bcd40155683ae19c65e1c03b4aa3499c5328201f1"
   }
  }
 },
 "nbformat": 4,
 "nbformat_minor": 5
}
