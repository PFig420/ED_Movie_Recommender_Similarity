{
 "cells": [
  {
   "cell_type": "code",
   "execution_count": 1,
   "id": "d676d9fc",
   "metadata": {},
   "outputs": [],
   "source": [
    "import numpy as np\n",
    "import pandas as pd\n",
    "import seaborn as sns\n",
    "from sklearn.preprocessing import StandardScaler\n",
    "from sklearn.decomposition import PCA"
   ]
  },
  {
   "cell_type": "code",
   "execution_count": 2,
   "id": "02addb7e",
   "metadata": {},
   "outputs": [],
   "source": [
    "from datetime import date\n",
    "from datetime import time\n",
    "from datetime import datetime"
   ]
  },
  {
   "cell_type": "markdown",
   "id": "b6c5b4b2",
   "metadata": {},
   "source": [
    "# Load User Data"
   ]
  },
  {
   "cell_type": "code",
   "execution_count": 3,
   "id": "1bbf74c6",
   "metadata": {},
   "outputs": [
    {
     "name": "stdout",
     "output_type": "stream",
     "text": [
      "   uid  age sex         job zipcode\n",
      "0    1   24   M  technician   85711\n",
      "1    2   53   F       other   94043\n",
      "2    3   23   M      writer   32067\n",
      "3    4   24   M  technician   43537\n",
      "4    5   33   F       other   15213\n"
     ]
    }
   ],
   "source": [
    "user_data = pd.read_csv('ml-100k/u.user' , sep='|', header=None , names=[\"uid\", \"age\", \"sex\" ,\"job\", \"zipcode\"])\n",
    "#user_data.describe()\n",
    "print(user_data.head())"
   ]
  },
  {
   "cell_type": "markdown",
   "id": "21de405b",
   "metadata": {},
   "source": [
    "# Load Movie Data"
   ]
  },
  {
   "cell_type": "code",
   "execution_count": 4,
   "id": "4ff210c5",
   "metadata": {},
   "outputs": [
    {
     "name": "stdout",
     "output_type": "stream",
     "text": [
      "   movieid              title release_date  video_release_date  \\\n",
      "0        1   Toy Story (1995)  01-Jan-1995                 NaN   \n",
      "1        2   GoldenEye (1995)  01-Jan-1995                 NaN   \n",
      "2        3  Four Rooms (1995)  01-Jan-1995                 NaN   \n",
      "3        4  Get Shorty (1995)  01-Jan-1995                 NaN   \n",
      "4        5     Copycat (1995)  01-Jan-1995                 NaN   \n",
      "\n",
      "                                                imdb  unknown  action  \\\n",
      "0  http://us.imdb.com/M/title-exact?Toy%20Story%2...        0       0   \n",
      "1  http://us.imdb.com/M/title-exact?GoldenEye%20(...        0       1   \n",
      "2  http://us.imdb.com/M/title-exact?Four%20Rooms%...        0       0   \n",
      "3  http://us.imdb.com/M/title-exact?Get%20Shorty%...        0       1   \n",
      "4  http://us.imdb.com/M/title-exact?Copycat%20(1995)        0       0   \n",
      "\n",
      "   adventure  animation  children  ...  fantasy  noir  horror  musical  \\\n",
      "0          0          1         1  ...        0     0       0        0   \n",
      "1          1          0         0  ...        0     0       0        0   \n",
      "2          0          0         0  ...        0     0       0        0   \n",
      "3          0          0         0  ...        0     0       0        0   \n",
      "4          0          0         0  ...        0     0       0        0   \n",
      "\n",
      "   mistery  romance  scifi  thriller  war  western  \n",
      "0        0        0      0         0    0        0  \n",
      "1        0        0      0         1    0        0  \n",
      "2        0        0      0         1    0        0  \n",
      "3        0        0      0         0    0        0  \n",
      "4        0        0      0         1    0        0  \n",
      "\n",
      "[5 rows x 24 columns]\n"
     ]
    }
   ],
   "source": [
    "movies_data = pd.read_csv('ml-100k/u.item' , sep='|', header=None , names=[\"movieid\", \"title\" ,\"release_date\", \"video_release_date\", \"imdb\", \"unknown\", \"action\", \"adventure\", \"animation\", \"children\", \"comedy\", \"crime\", \"documnetary\", \"drama\", \"fantasy\", \"noir\", \"horror\", \"musical\", \"mistery\", \"romance\", \"scifi\", \"thriller\", \"war\", \"western\"])\n",
    "print(movies_data.head())"
   ]
  },
  {
   "cell_type": "markdown",
   "id": "c32da1f3",
   "metadata": {},
   "source": [
    "# Load Ratings Data"
   ]
  },
  {
   "cell_type": "code",
   "execution_count": 5,
   "id": "15272ae7",
   "metadata": {},
   "outputs": [
    {
     "name": "stdout",
     "output_type": "stream",
     "text": [
      "   uid  movieid  rating  timestamp\n",
      "0  196      242       3  881250949\n",
      "1  186      302       3  891717742\n",
      "2   22      377       1  878887116\n",
      "3  244       51       2  880606923\n",
      "4  166      346       1  886397596\n"
     ]
    }
   ],
   "source": [
    "# Ratings\n",
    "r_cols = ['uid', 'movieid', 'rating', 'timestamp']\n",
    "\n",
    "ratings = pd.read_csv(\"ml-100k/u.data\", sep=\"\\t\", names=r_cols, encoding='latin-1')\n",
    "\n",
    "print(ratings.head())"
   ]
  },
  {
   "cell_type": "markdown",
   "id": "882329af",
   "metadata": {},
   "source": [
    "# Sparsity"
   ]
  },
  {
   "cell_type": "markdown",
   "id": "f63014e3",
   "metadata": {},
   "source": [
    "The Sparsity of a matrix is measured by the number of cells that do not have a value (meaning . As it can be seen below, the matrix of ratings in this dataset is going to be very sparse, having a sparsity of 93.7%, which means that the majority of users only rated a small percentage of the movies."
   ]
  },
  {
   "cell_type": "code",
   "execution_count": 6,
   "id": "c7c917c4",
   "metadata": {},
   "outputs": [
    {
     "name": "stdout",
     "output_type": "stream",
     "text": [
      "Sparsity: 0.937\n"
     ]
    }
   ],
   "source": [
    "sparsity = 1 - len(ratings) / (len(user_data) * len(movies_data))\n",
    "print(f\"Sparsity: {sparsity:.3f}\")"
   ]
  },
  {
   "cell_type": "markdown",
   "id": "b9220559",
   "metadata": {},
   "source": [
    "# Cleaning up the dataframe"
   ]
  },
  {
   "cell_type": "markdown",
   "id": "59a38860",
   "metadata": {},
   "source": [
    "### cleaning movies_data  "
   ]
  },
  {
   "cell_type": "code",
   "execution_count": 7,
   "id": "7b4c6350",
   "metadata": {},
   "outputs": [
    {
     "name": "stdout",
     "output_type": "stream",
     "text": [
      "movieid                  0\n",
      "title                    0\n",
      "release_date             1\n",
      "video_release_date    1682\n",
      "imdb                     3\n",
      "unknown                  0\n",
      "action                   0\n",
      "adventure                0\n",
      "animation                0\n",
      "children                 0\n",
      "comedy                   0\n",
      "crime                    0\n",
      "documnetary              0\n",
      "drama                    0\n",
      "fantasy                  0\n",
      "noir                     0\n",
      "horror                   0\n",
      "musical                  0\n",
      "mistery                  0\n",
      "romance                  0\n",
      "scifi                    0\n",
      "thriller                 0\n",
      "war                      0\n",
      "western                  0\n",
      "dtype: int64\n"
     ]
    }
   ],
   "source": [
    "null_genre=movies_data.isnull().sum()\n",
    "print(null_genre)"
   ]
  },
  {
   "cell_type": "code",
   "execution_count": 8,
   "id": "a3c8e956",
   "metadata": {},
   "outputs": [],
   "source": [
    "movies_data.drop('video_release_date', axis=1, inplace=True)\n",
    "movies_data.drop('release_date', axis=1, inplace=True)\n",
    "movies_data.drop('title', axis=1, inplace=True)\n",
    "movies_data.drop('imdb', axis=1, inplace=True)"
   ]
  },
  {
   "cell_type": "markdown",
   "id": "3a53ef8d",
   "metadata": {},
   "source": [
    "### cleaning user_data "
   ]
  },
  {
   "cell_type": "code",
   "execution_count": 9,
   "id": "0842f3fe",
   "metadata": {},
   "outputs": [],
   "source": [
    "user_data.drop('zipcode', axis=1, inplace=True)"
   ]
  },
  {
   "cell_type": "markdown",
   "id": "b69f8e48",
   "metadata": {},
   "source": [
    "### converting sex to int 0-1"
   ]
  },
  {
   "cell_type": "code",
   "execution_count": 10,
   "id": "5f9b4a8e",
   "metadata": {},
   "outputs": [],
   "source": [
    "user_data=user_data.replace('M', 0)\n",
    "user_data=user_data.replace('F', 1)"
   ]
  },
  {
   "cell_type": "markdown",
   "id": "720d0afd",
   "metadata": {},
   "source": [
    "### converting job to int 0-19 "
   ]
  },
  {
   "cell_type": "code",
   "execution_count": 11,
   "id": "3c3eb9fc",
   "metadata": {},
   "outputs": [],
   "source": [
    "occupations = {0:'administrator', 1:'artist', 2:'doctor', 3:'educator', 4:'engineer', 5:'entertainment', 6:'executive', 7:'healthcare', 8:'homemaker', 9:'lawyer', 10:'librarian', 11:'marketing', 12:'none', 13:'other', 14:'programmer', 15:'retired', 16:'salesman', 17:'scientist', 18:'student', 19:'technician', 20:'writer'}"
   ]
  },
  {
   "cell_type": "code",
   "execution_count": 12,
   "id": "75c0e395",
   "metadata": {},
   "outputs": [],
   "source": [
    "for key in occupations.keys():\n",
    "    user_data=user_data.replace(occupations[key], key)"
   ]
  },
  {
   "cell_type": "markdown",
   "id": "e717ebd1",
   "metadata": {},
   "source": [
    "### cleaning ratings. checking if timestamp is impactful"
   ]
  },
  {
   "cell_type": "code",
   "execution_count": 13,
   "id": "323b3965",
   "metadata": {},
   "outputs": [
    {
     "data": {
      "text/html": [
       "<div>\n",
       "<style scoped>\n",
       "    .dataframe tbody tr th:only-of-type {\n",
       "        vertical-align: middle;\n",
       "    }\n",
       "\n",
       "    .dataframe tbody tr th {\n",
       "        vertical-align: top;\n",
       "    }\n",
       "\n",
       "    .dataframe thead th {\n",
       "        text-align: right;\n",
       "    }\n",
       "</style>\n",
       "<table border=\"1\" class=\"dataframe\">\n",
       "  <thead>\n",
       "    <tr style=\"text-align: right;\">\n",
       "      <th></th>\n",
       "      <th>first_review</th>\n",
       "      <th>last_review</th>\n",
       "    </tr>\n",
       "  </thead>\n",
       "  <tbody>\n",
       "  </tbody>\n",
       "</table>\n",
       "</div>"
      ],
      "text/plain": [
       "Empty DataFrame\n",
       "Columns: [first_review, last_review]\n",
       "Index: []"
      ]
     },
     "execution_count": 13,
     "metadata": {},
     "output_type": "execute_result"
    }
   ],
   "source": [
    "timestamp_analysis=pd.DataFrame(columns = ['first_review', 'last_review'])\n",
    "timestamp_analysis"
   ]
  },
  {
   "cell_type": "code",
   "execution_count": 14,
   "id": "1d8445ff",
   "metadata": {},
   "outputs": [],
   "source": [
    "timestamp_analysis.first_review=ratings.groupby(['uid']).timestamp.min()\n",
    "timestamp_analysis.last_review=ratings.groupby(['uid']).timestamp.max()"
   ]
  },
  {
   "cell_type": "code",
   "execution_count": 15,
   "id": "979acde3",
   "metadata": {},
   "outputs": [],
   "source": [
    "timestamp_analysis = timestamp_analysis.assign(diff=timestamp_analysis['last_review'] - timestamp_analysis['first_review'])"
   ]
  },
  {
   "cell_type": "code",
   "execution_count": 16,
   "id": "6fcd3b1f",
   "metadata": {
    "scrolled": true
   },
   "outputs": [
    {
     "data": {
      "text/html": [
       "<div>\n",
       "<style scoped>\n",
       "    .dataframe tbody tr th:only-of-type {\n",
       "        vertical-align: middle;\n",
       "    }\n",
       "\n",
       "    .dataframe tbody tr th {\n",
       "        vertical-align: top;\n",
       "    }\n",
       "\n",
       "    .dataframe thead th {\n",
       "        text-align: right;\n",
       "    }\n",
       "</style>\n",
       "<table border=\"1\" class=\"dataframe\">\n",
       "  <thead>\n",
       "    <tr style=\"text-align: right;\">\n",
       "      <th></th>\n",
       "      <th>first_review</th>\n",
       "      <th>last_review</th>\n",
       "      <th>diff</th>\n",
       "    </tr>\n",
       "    <tr>\n",
       "      <th>uid</th>\n",
       "      <th></th>\n",
       "      <th></th>\n",
       "      <th></th>\n",
       "    </tr>\n",
       "  </thead>\n",
       "  <tbody>\n",
       "    <tr>\n",
       "      <th>1</th>\n",
       "      <td>874965478</td>\n",
       "      <td>889751736</td>\n",
       "      <td>14786258</td>\n",
       "    </tr>\n",
       "    <tr>\n",
       "      <th>2</th>\n",
       "      <td>888549960</td>\n",
       "      <td>888980240</td>\n",
       "      <td>430280</td>\n",
       "    </tr>\n",
       "    <tr>\n",
       "      <th>3</th>\n",
       "      <td>889236939</td>\n",
       "      <td>889237482</td>\n",
       "      <td>543</td>\n",
       "    </tr>\n",
       "    <tr>\n",
       "      <th>4</th>\n",
       "      <td>892001374</td>\n",
       "      <td>892004520</td>\n",
       "      <td>3146</td>\n",
       "    </tr>\n",
       "    <tr>\n",
       "      <th>5</th>\n",
       "      <td>875635064</td>\n",
       "      <td>879198898</td>\n",
       "      <td>3563834</td>\n",
       "    </tr>\n",
       "  </tbody>\n",
       "</table>\n",
       "</div>"
      ],
      "text/plain": [
       "     first_review  last_review      diff\n",
       "uid                                     \n",
       "1       874965478    889751736  14786258\n",
       "2       888549960    888980240    430280\n",
       "3       889236939    889237482       543\n",
       "4       892001374    892004520      3146\n",
       "5       875635064    879198898   3563834"
      ]
     },
     "execution_count": 16,
     "metadata": {},
     "output_type": "execute_result"
    }
   ],
   "source": [
    "timestamp_analysis.head()"
   ]
  },
  {
   "cell_type": "code",
   "execution_count": 17,
   "id": "6cadbc40",
   "metadata": {},
   "outputs": [
    {
     "name": "stdout",
     "output_type": "stream",
     "text": [
      "Max time to complete all reviews is 212.52990740740742 days\n",
      "Mean time to complete all reviews is 23.356951661364437 days\n"
     ]
    }
   ],
   "source": [
    "max_span=timestamp_analysis['diff'].max()\n",
    "mean_span=timestamp_analysis['diff'].mean()\n",
    "print(\"Max time to complete all reviews is\",max_span/60/60/24, \"days\")\n",
    "print(\"Mean time to complete all reviews is\",mean_span/60/60/24, \"days\")"
   ]
  },
  {
   "cell_type": "markdown",
   "id": "2d50efae",
   "metadata": {},
   "source": [
    "Therefore it is our conclusion that we should take time into consideration as 23 days is not enough time for people to change their taste in movies"
   ]
  },
  {
   "cell_type": "code",
   "execution_count": 21,
   "id": "72c5550c",
   "metadata": {},
   "outputs": [],
   "source": [
    "ratings.drop('timestamp', axis=1, inplace=True)"
   ]
  },
  {
   "cell_type": "markdown",
   "id": "2af6cc02",
   "metadata": {},
   "source": [
    "### merging the dataframes "
   ]
  },
  {
   "cell_type": "code",
   "execution_count": 28,
   "id": "27089b6d",
   "metadata": {},
   "outputs": [],
   "source": [
    "db=pd.merge(pd.merge(user_data, ratings, on='uid'), movies_data, on='movieid')"
   ]
  },
  {
   "cell_type": "code",
   "execution_count": 36,
   "id": "f48aab25",
   "metadata": {},
   "outputs": [
    {
     "data": {
      "text/html": [
       "<div>\n",
       "<style scoped>\n",
       "    .dataframe tbody tr th:only-of-type {\n",
       "        vertical-align: middle;\n",
       "    }\n",
       "\n",
       "    .dataframe tbody tr th {\n",
       "        vertical-align: top;\n",
       "    }\n",
       "\n",
       "    .dataframe thead th {\n",
       "        text-align: right;\n",
       "    }\n",
       "</style>\n",
       "<table border=\"1\" class=\"dataframe\">\n",
       "  <thead>\n",
       "    <tr style=\"text-align: right;\">\n",
       "      <th></th>\n",
       "      <th>uid</th>\n",
       "      <th>age</th>\n",
       "      <th>sex</th>\n",
       "      <th>job</th>\n",
       "      <th>movieid</th>\n",
       "      <th>rating</th>\n",
       "      <th>unknown</th>\n",
       "      <th>action</th>\n",
       "      <th>adventure</th>\n",
       "      <th>animation</th>\n",
       "      <th>...</th>\n",
       "      <th>fantasy</th>\n",
       "      <th>noir</th>\n",
       "      <th>horror</th>\n",
       "      <th>musical</th>\n",
       "      <th>mistery</th>\n",
       "      <th>romance</th>\n",
       "      <th>scifi</th>\n",
       "      <th>thriller</th>\n",
       "      <th>war</th>\n",
       "      <th>western</th>\n",
       "    </tr>\n",
       "  </thead>\n",
       "  <tbody>\n",
       "    <tr>\n",
       "      <th>0</th>\n",
       "      <td>1</td>\n",
       "      <td>24</td>\n",
       "      <td>0</td>\n",
       "      <td>19</td>\n",
       "      <td>61</td>\n",
       "      <td>4</td>\n",
       "      <td>0</td>\n",
       "      <td>0</td>\n",
       "      <td>0</td>\n",
       "      <td>0</td>\n",
       "      <td>...</td>\n",
       "      <td>0</td>\n",
       "      <td>0</td>\n",
       "      <td>0</td>\n",
       "      <td>0</td>\n",
       "      <td>0</td>\n",
       "      <td>0</td>\n",
       "      <td>0</td>\n",
       "      <td>0</td>\n",
       "      <td>0</td>\n",
       "      <td>0</td>\n",
       "    </tr>\n",
       "    <tr>\n",
       "      <th>1</th>\n",
       "      <td>13</td>\n",
       "      <td>47</td>\n",
       "      <td>0</td>\n",
       "      <td>3</td>\n",
       "      <td>61</td>\n",
       "      <td>4</td>\n",
       "      <td>0</td>\n",
       "      <td>0</td>\n",
       "      <td>0</td>\n",
       "      <td>0</td>\n",
       "      <td>...</td>\n",
       "      <td>0</td>\n",
       "      <td>0</td>\n",
       "      <td>0</td>\n",
       "      <td>0</td>\n",
       "      <td>0</td>\n",
       "      <td>0</td>\n",
       "      <td>0</td>\n",
       "      <td>0</td>\n",
       "      <td>0</td>\n",
       "      <td>0</td>\n",
       "    </tr>\n",
       "    <tr>\n",
       "      <th>2</th>\n",
       "      <td>18</td>\n",
       "      <td>35</td>\n",
       "      <td>1</td>\n",
       "      <td>13</td>\n",
       "      <td>61</td>\n",
       "      <td>4</td>\n",
       "      <td>0</td>\n",
       "      <td>0</td>\n",
       "      <td>0</td>\n",
       "      <td>0</td>\n",
       "      <td>...</td>\n",
       "      <td>0</td>\n",
       "      <td>0</td>\n",
       "      <td>0</td>\n",
       "      <td>0</td>\n",
       "      <td>0</td>\n",
       "      <td>0</td>\n",
       "      <td>0</td>\n",
       "      <td>0</td>\n",
       "      <td>0</td>\n",
       "      <td>0</td>\n",
       "    </tr>\n",
       "    <tr>\n",
       "      <th>3</th>\n",
       "      <td>58</td>\n",
       "      <td>27</td>\n",
       "      <td>0</td>\n",
       "      <td>14</td>\n",
       "      <td>61</td>\n",
       "      <td>5</td>\n",
       "      <td>0</td>\n",
       "      <td>0</td>\n",
       "      <td>0</td>\n",
       "      <td>0</td>\n",
       "      <td>...</td>\n",
       "      <td>0</td>\n",
       "      <td>0</td>\n",
       "      <td>0</td>\n",
       "      <td>0</td>\n",
       "      <td>0</td>\n",
       "      <td>0</td>\n",
       "      <td>0</td>\n",
       "      <td>0</td>\n",
       "      <td>0</td>\n",
       "      <td>0</td>\n",
       "    </tr>\n",
       "    <tr>\n",
       "      <th>4</th>\n",
       "      <td>59</td>\n",
       "      <td>49</td>\n",
       "      <td>0</td>\n",
       "      <td>3</td>\n",
       "      <td>61</td>\n",
       "      <td>4</td>\n",
       "      <td>0</td>\n",
       "      <td>0</td>\n",
       "      <td>0</td>\n",
       "      <td>0</td>\n",
       "      <td>...</td>\n",
       "      <td>0</td>\n",
       "      <td>0</td>\n",
       "      <td>0</td>\n",
       "      <td>0</td>\n",
       "      <td>0</td>\n",
       "      <td>0</td>\n",
       "      <td>0</td>\n",
       "      <td>0</td>\n",
       "      <td>0</td>\n",
       "      <td>0</td>\n",
       "    </tr>\n",
       "  </tbody>\n",
       "</table>\n",
       "<p>5 rows × 25 columns</p>\n",
       "</div>"
      ],
      "text/plain": [
       "   uid  age  sex  job  movieid  rating  unknown  action  adventure  animation  \\\n",
       "0    1   24    0   19       61       4        0       0          0          0   \n",
       "1   13   47    0    3       61       4        0       0          0          0   \n",
       "2   18   35    1   13       61       4        0       0          0          0   \n",
       "3   58   27    0   14       61       5        0       0          0          0   \n",
       "4   59   49    0    3       61       4        0       0          0          0   \n",
       "\n",
       "   ...  fantasy  noir  horror  musical  mistery  romance  scifi  thriller  \\\n",
       "0  ...        0     0       0        0        0        0      0         0   \n",
       "1  ...        0     0       0        0        0        0      0         0   \n",
       "2  ...        0     0       0        0        0        0      0         0   \n",
       "3  ...        0     0       0        0        0        0      0         0   \n",
       "4  ...        0     0       0        0        0        0      0         0   \n",
       "\n",
       "   war  western  \n",
       "0    0        0  \n",
       "1    0        0  \n",
       "2    0        0  \n",
       "3    0        0  \n",
       "4    0        0  \n",
       "\n",
       "[5 rows x 25 columns]"
      ]
     },
     "execution_count": 36,
     "metadata": {},
     "output_type": "execute_result"
    }
   ],
   "source": [
    "db.head()"
   ]
  },
  {
   "cell_type": "code",
   "execution_count": 45,
   "id": "0b2507bd",
   "metadata": {},
   "outputs": [],
   "source": [
    "db=db.sort_values(by=['uid'])"
   ]
  },
  {
   "cell_type": "code",
   "execution_count": 62,
   "id": "91aa7b8b",
   "metadata": {},
   "outputs": [
    {
     "data": {
      "text/html": [
       "<div>\n",
       "<style scoped>\n",
       "    .dataframe tbody tr th:only-of-type {\n",
       "        vertical-align: middle;\n",
       "    }\n",
       "\n",
       "    .dataframe tbody tr th {\n",
       "        vertical-align: top;\n",
       "    }\n",
       "\n",
       "    .dataframe thead th {\n",
       "        text-align: right;\n",
       "    }\n",
       "</style>\n",
       "<table border=\"1\" class=\"dataframe\">\n",
       "  <thead>\n",
       "    <tr style=\"text-align: right;\">\n",
       "      <th></th>\n",
       "      <th>uid</th>\n",
       "      <th>age</th>\n",
       "      <th>sex</th>\n",
       "      <th>job</th>\n",
       "      <th>movieid</th>\n",
       "      <th>rating</th>\n",
       "      <th>unknown</th>\n",
       "      <th>action</th>\n",
       "      <th>adventure</th>\n",
       "      <th>animation</th>\n",
       "      <th>...</th>\n",
       "      <th>fantasy</th>\n",
       "      <th>noir</th>\n",
       "      <th>horror</th>\n",
       "      <th>musical</th>\n",
       "      <th>mistery</th>\n",
       "      <th>romance</th>\n",
       "      <th>scifi</th>\n",
       "      <th>thriller</th>\n",
       "      <th>war</th>\n",
       "      <th>western</th>\n",
       "    </tr>\n",
       "  </thead>\n",
       "  <tbody>\n",
       "    <tr>\n",
       "      <th>0</th>\n",
       "      <td>1</td>\n",
       "      <td>24</td>\n",
       "      <td>0</td>\n",
       "      <td>19</td>\n",
       "      <td>61</td>\n",
       "      <td>4</td>\n",
       "      <td>0</td>\n",
       "      <td>0</td>\n",
       "      <td>0</td>\n",
       "      <td>0</td>\n",
       "      <td>...</td>\n",
       "      <td>0</td>\n",
       "      <td>0</td>\n",
       "      <td>0</td>\n",
       "      <td>0</td>\n",
       "      <td>0</td>\n",
       "      <td>0</td>\n",
       "      <td>0</td>\n",
       "      <td>0</td>\n",
       "      <td>0</td>\n",
       "      <td>0</td>\n",
       "    </tr>\n",
       "    <tr>\n",
       "      <th>24794</th>\n",
       "      <td>1</td>\n",
       "      <td>24</td>\n",
       "      <td>0</td>\n",
       "      <td>19</td>\n",
       "      <td>256</td>\n",
       "      <td>4</td>\n",
       "      <td>0</td>\n",
       "      <td>0</td>\n",
       "      <td>0</td>\n",
       "      <td>0</td>\n",
       "      <td>...</td>\n",
       "      <td>0</td>\n",
       "      <td>0</td>\n",
       "      <td>0</td>\n",
       "      <td>0</td>\n",
       "      <td>0</td>\n",
       "      <td>1</td>\n",
       "      <td>0</td>\n",
       "      <td>0</td>\n",
       "      <td>0</td>\n",
       "      <td>0</td>\n",
       "    </tr>\n",
       "    <tr>\n",
       "      <th>24810</th>\n",
       "      <td>1</td>\n",
       "      <td>24</td>\n",
       "      <td>0</td>\n",
       "      <td>19</td>\n",
       "      <td>220</td>\n",
       "      <td>3</td>\n",
       "      <td>0</td>\n",
       "      <td>0</td>\n",
       "      <td>0</td>\n",
       "      <td>0</td>\n",
       "      <td>...</td>\n",
       "      <td>0</td>\n",
       "      <td>0</td>\n",
       "      <td>0</td>\n",
       "      <td>0</td>\n",
       "      <td>0</td>\n",
       "      <td>1</td>\n",
       "      <td>0</td>\n",
       "      <td>0</td>\n",
       "      <td>0</td>\n",
       "      <td>0</td>\n",
       "    </tr>\n",
       "    <tr>\n",
       "      <th>24876</th>\n",
       "      <td>1</td>\n",
       "      <td>24</td>\n",
       "      <td>0</td>\n",
       "      <td>19</td>\n",
       "      <td>93</td>\n",
       "      <td>5</td>\n",
       "      <td>0</td>\n",
       "      <td>0</td>\n",
       "      <td>0</td>\n",
       "      <td>0</td>\n",
       "      <td>...</td>\n",
       "      <td>0</td>\n",
       "      <td>0</td>\n",
       "      <td>0</td>\n",
       "      <td>0</td>\n",
       "      <td>0</td>\n",
       "      <td>0</td>\n",
       "      <td>0</td>\n",
       "      <td>0</td>\n",
       "      <td>0</td>\n",
       "      <td>0</td>\n",
       "    </tr>\n",
       "    <tr>\n",
       "      <th>24988</th>\n",
       "      <td>1</td>\n",
       "      <td>24</td>\n",
       "      <td>0</td>\n",
       "      <td>19</td>\n",
       "      <td>8</td>\n",
       "      <td>1</td>\n",
       "      <td>0</td>\n",
       "      <td>0</td>\n",
       "      <td>0</td>\n",
       "      <td>0</td>\n",
       "      <td>...</td>\n",
       "      <td>0</td>\n",
       "      <td>0</td>\n",
       "      <td>0</td>\n",
       "      <td>0</td>\n",
       "      <td>0</td>\n",
       "      <td>0</td>\n",
       "      <td>0</td>\n",
       "      <td>0</td>\n",
       "      <td>0</td>\n",
       "      <td>0</td>\n",
       "    </tr>\n",
       "  </tbody>\n",
       "</table>\n",
       "<p>5 rows × 25 columns</p>\n",
       "</div>"
      ],
      "text/plain": [
       "       uid  age  sex  job  movieid  rating  unknown  action  adventure  \\\n",
       "0        1   24    0   19       61       4        0       0          0   \n",
       "24794    1   24    0   19      256       4        0       0          0   \n",
       "24810    1   24    0   19      220       3        0       0          0   \n",
       "24876    1   24    0   19       93       5        0       0          0   \n",
       "24988    1   24    0   19        8       1        0       0          0   \n",
       "\n",
       "       animation  ...  fantasy  noir  horror  musical  mistery  romance  \\\n",
       "0              0  ...        0     0       0        0        0        0   \n",
       "24794          0  ...        0     0       0        0        0        1   \n",
       "24810          0  ...        0     0       0        0        0        1   \n",
       "24876          0  ...        0     0       0        0        0        0   \n",
       "24988          0  ...        0     0       0        0        0        0   \n",
       "\n",
       "       scifi  thriller  war  western  \n",
       "0          0         0    0        0  \n",
       "24794      0         0    0        0  \n",
       "24810      0         0    0        0  \n",
       "24876      0         0    0        0  \n",
       "24988      0         0    0        0  \n",
       "\n",
       "[5 rows x 25 columns]"
      ]
     },
     "execution_count": 62,
     "metadata": {},
     "output_type": "execute_result"
    }
   ],
   "source": [
    "db.head()"
   ]
  },
  {
   "cell_type": "code",
   "execution_count": 47,
   "id": "e82537b8",
   "metadata": {},
   "outputs": [
    {
     "data": {
      "text/html": [
       "<div>\n",
       "<style scoped>\n",
       "    .dataframe tbody tr th:only-of-type {\n",
       "        vertical-align: middle;\n",
       "    }\n",
       "\n",
       "    .dataframe tbody tr th {\n",
       "        vertical-align: top;\n",
       "    }\n",
       "\n",
       "    .dataframe thead th {\n",
       "        text-align: right;\n",
       "    }\n",
       "</style>\n",
       "<table border=\"1\" class=\"dataframe\">\n",
       "  <thead>\n",
       "    <tr style=\"text-align: right;\">\n",
       "      <th></th>\n",
       "      <th>uid</th>\n",
       "      <th>age</th>\n",
       "      <th>sex</th>\n",
       "      <th>job</th>\n",
       "      <th>movieid</th>\n",
       "      <th>rating</th>\n",
       "      <th>unknown</th>\n",
       "      <th>action</th>\n",
       "      <th>adventure</th>\n",
       "      <th>animation</th>\n",
       "      <th>...</th>\n",
       "      <th>fantasy</th>\n",
       "      <th>noir</th>\n",
       "      <th>horror</th>\n",
       "      <th>musical</th>\n",
       "      <th>mistery</th>\n",
       "      <th>romance</th>\n",
       "      <th>scifi</th>\n",
       "      <th>thriller</th>\n",
       "      <th>war</th>\n",
       "      <th>western</th>\n",
       "    </tr>\n",
       "  </thead>\n",
       "  <tbody>\n",
       "    <tr>\n",
       "      <th>count</th>\n",
       "      <td>100000.00000</td>\n",
       "      <td>100000.000000</td>\n",
       "      <td>100000.000000</td>\n",
       "      <td>100000.000000</td>\n",
       "      <td>100000.000000</td>\n",
       "      <td>100000.000000</td>\n",
       "      <td>100000.0000</td>\n",
       "      <td>100000.000000</td>\n",
       "      <td>100000.000000</td>\n",
       "      <td>100000.000000</td>\n",
       "      <td>...</td>\n",
       "      <td>100000.000000</td>\n",
       "      <td>100000.000000</td>\n",
       "      <td>100000.000000</td>\n",
       "      <td>100000.000000</td>\n",
       "      <td>100000.000000</td>\n",
       "      <td>100000.000000</td>\n",
       "      <td>100000.00000</td>\n",
       "      <td>100000.00000</td>\n",
       "      <td>100000.000000</td>\n",
       "      <td>100000.000000</td>\n",
       "    </tr>\n",
       "    <tr>\n",
       "      <th>mean</th>\n",
       "      <td>462.48475</td>\n",
       "      <td>32.969850</td>\n",
       "      <td>0.257400</td>\n",
       "      <td>11.076340</td>\n",
       "      <td>425.530130</td>\n",
       "      <td>3.529860</td>\n",
       "      <td>0.0001</td>\n",
       "      <td>0.255890</td>\n",
       "      <td>0.137530</td>\n",
       "      <td>0.036050</td>\n",
       "      <td>...</td>\n",
       "      <td>0.013520</td>\n",
       "      <td>0.017330</td>\n",
       "      <td>0.053170</td>\n",
       "      <td>0.049540</td>\n",
       "      <td>0.052450</td>\n",
       "      <td>0.194610</td>\n",
       "      <td>0.12730</td>\n",
       "      <td>0.21872</td>\n",
       "      <td>0.093980</td>\n",
       "      <td>0.018540</td>\n",
       "    </tr>\n",
       "    <tr>\n",
       "      <th>std</th>\n",
       "      <td>266.61442</td>\n",
       "      <td>11.562623</td>\n",
       "      <td>0.437204</td>\n",
       "      <td>6.622849</td>\n",
       "      <td>330.798356</td>\n",
       "      <td>1.125674</td>\n",
       "      <td>0.0100</td>\n",
       "      <td>0.436362</td>\n",
       "      <td>0.344408</td>\n",
       "      <td>0.186416</td>\n",
       "      <td>...</td>\n",
       "      <td>0.115487</td>\n",
       "      <td>0.130498</td>\n",
       "      <td>0.224373</td>\n",
       "      <td>0.216994</td>\n",
       "      <td>0.222934</td>\n",
       "      <td>0.395902</td>\n",
       "      <td>0.33331</td>\n",
       "      <td>0.41338</td>\n",
       "      <td>0.291802</td>\n",
       "      <td>0.134894</td>\n",
       "    </tr>\n",
       "    <tr>\n",
       "      <th>min</th>\n",
       "      <td>1.00000</td>\n",
       "      <td>7.000000</td>\n",
       "      <td>0.000000</td>\n",
       "      <td>0.000000</td>\n",
       "      <td>1.000000</td>\n",
       "      <td>1.000000</td>\n",
       "      <td>0.0000</td>\n",
       "      <td>0.000000</td>\n",
       "      <td>0.000000</td>\n",
       "      <td>0.000000</td>\n",
       "      <td>...</td>\n",
       "      <td>0.000000</td>\n",
       "      <td>0.000000</td>\n",
       "      <td>0.000000</td>\n",
       "      <td>0.000000</td>\n",
       "      <td>0.000000</td>\n",
       "      <td>0.000000</td>\n",
       "      <td>0.00000</td>\n",
       "      <td>0.00000</td>\n",
       "      <td>0.000000</td>\n",
       "      <td>0.000000</td>\n",
       "    </tr>\n",
       "    <tr>\n",
       "      <th>25%</th>\n",
       "      <td>254.00000</td>\n",
       "      <td>24.000000</td>\n",
       "      <td>0.000000</td>\n",
       "      <td>4.000000</td>\n",
       "      <td>175.000000</td>\n",
       "      <td>3.000000</td>\n",
       "      <td>0.0000</td>\n",
       "      <td>0.000000</td>\n",
       "      <td>0.000000</td>\n",
       "      <td>0.000000</td>\n",
       "      <td>...</td>\n",
       "      <td>0.000000</td>\n",
       "      <td>0.000000</td>\n",
       "      <td>0.000000</td>\n",
       "      <td>0.000000</td>\n",
       "      <td>0.000000</td>\n",
       "      <td>0.000000</td>\n",
       "      <td>0.00000</td>\n",
       "      <td>0.00000</td>\n",
       "      <td>0.000000</td>\n",
       "      <td>0.000000</td>\n",
       "    </tr>\n",
       "    <tr>\n",
       "      <th>50%</th>\n",
       "      <td>447.00000</td>\n",
       "      <td>30.000000</td>\n",
       "      <td>0.000000</td>\n",
       "      <td>13.000000</td>\n",
       "      <td>322.000000</td>\n",
       "      <td>4.000000</td>\n",
       "      <td>0.0000</td>\n",
       "      <td>0.000000</td>\n",
       "      <td>0.000000</td>\n",
       "      <td>0.000000</td>\n",
       "      <td>...</td>\n",
       "      <td>0.000000</td>\n",
       "      <td>0.000000</td>\n",
       "      <td>0.000000</td>\n",
       "      <td>0.000000</td>\n",
       "      <td>0.000000</td>\n",
       "      <td>0.000000</td>\n",
       "      <td>0.00000</td>\n",
       "      <td>0.00000</td>\n",
       "      <td>0.000000</td>\n",
       "      <td>0.000000</td>\n",
       "    </tr>\n",
       "    <tr>\n",
       "      <th>75%</th>\n",
       "      <td>682.00000</td>\n",
       "      <td>40.000000</td>\n",
       "      <td>1.000000</td>\n",
       "      <td>18.000000</td>\n",
       "      <td>631.000000</td>\n",
       "      <td>4.000000</td>\n",
       "      <td>0.0000</td>\n",
       "      <td>1.000000</td>\n",
       "      <td>0.000000</td>\n",
       "      <td>0.000000</td>\n",
       "      <td>...</td>\n",
       "      <td>0.000000</td>\n",
       "      <td>0.000000</td>\n",
       "      <td>0.000000</td>\n",
       "      <td>0.000000</td>\n",
       "      <td>0.000000</td>\n",
       "      <td>0.000000</td>\n",
       "      <td>0.00000</td>\n",
       "      <td>0.00000</td>\n",
       "      <td>0.000000</td>\n",
       "      <td>0.000000</td>\n",
       "    </tr>\n",
       "    <tr>\n",
       "      <th>max</th>\n",
       "      <td>943.00000</td>\n",
       "      <td>73.000000</td>\n",
       "      <td>1.000000</td>\n",
       "      <td>20.000000</td>\n",
       "      <td>1682.000000</td>\n",
       "      <td>5.000000</td>\n",
       "      <td>1.0000</td>\n",
       "      <td>1.000000</td>\n",
       "      <td>1.000000</td>\n",
       "      <td>1.000000</td>\n",
       "      <td>...</td>\n",
       "      <td>1.000000</td>\n",
       "      <td>1.000000</td>\n",
       "      <td>1.000000</td>\n",
       "      <td>1.000000</td>\n",
       "      <td>1.000000</td>\n",
       "      <td>1.000000</td>\n",
       "      <td>1.00000</td>\n",
       "      <td>1.00000</td>\n",
       "      <td>1.000000</td>\n",
       "      <td>1.000000</td>\n",
       "    </tr>\n",
       "  </tbody>\n",
       "</table>\n",
       "<p>8 rows × 25 columns</p>\n",
       "</div>"
      ],
      "text/plain": [
       "                uid            age            sex            job  \\\n",
       "count  100000.00000  100000.000000  100000.000000  100000.000000   \n",
       "mean      462.48475      32.969850       0.257400      11.076340   \n",
       "std       266.61442      11.562623       0.437204       6.622849   \n",
       "min         1.00000       7.000000       0.000000       0.000000   \n",
       "25%       254.00000      24.000000       0.000000       4.000000   \n",
       "50%       447.00000      30.000000       0.000000      13.000000   \n",
       "75%       682.00000      40.000000       1.000000      18.000000   \n",
       "max       943.00000      73.000000       1.000000      20.000000   \n",
       "\n",
       "             movieid         rating      unknown         action  \\\n",
       "count  100000.000000  100000.000000  100000.0000  100000.000000   \n",
       "mean      425.530130       3.529860       0.0001       0.255890   \n",
       "std       330.798356       1.125674       0.0100       0.436362   \n",
       "min         1.000000       1.000000       0.0000       0.000000   \n",
       "25%       175.000000       3.000000       0.0000       0.000000   \n",
       "50%       322.000000       4.000000       0.0000       0.000000   \n",
       "75%       631.000000       4.000000       0.0000       1.000000   \n",
       "max      1682.000000       5.000000       1.0000       1.000000   \n",
       "\n",
       "           adventure      animation  ...        fantasy           noir  \\\n",
       "count  100000.000000  100000.000000  ...  100000.000000  100000.000000   \n",
       "mean        0.137530       0.036050  ...       0.013520       0.017330   \n",
       "std         0.344408       0.186416  ...       0.115487       0.130498   \n",
       "min         0.000000       0.000000  ...       0.000000       0.000000   \n",
       "25%         0.000000       0.000000  ...       0.000000       0.000000   \n",
       "50%         0.000000       0.000000  ...       0.000000       0.000000   \n",
       "75%         0.000000       0.000000  ...       0.000000       0.000000   \n",
       "max         1.000000       1.000000  ...       1.000000       1.000000   \n",
       "\n",
       "              horror        musical        mistery        romance  \\\n",
       "count  100000.000000  100000.000000  100000.000000  100000.000000   \n",
       "mean        0.053170       0.049540       0.052450       0.194610   \n",
       "std         0.224373       0.216994       0.222934       0.395902   \n",
       "min         0.000000       0.000000       0.000000       0.000000   \n",
       "25%         0.000000       0.000000       0.000000       0.000000   \n",
       "50%         0.000000       0.000000       0.000000       0.000000   \n",
       "75%         0.000000       0.000000       0.000000       0.000000   \n",
       "max         1.000000       1.000000       1.000000       1.000000   \n",
       "\n",
       "              scifi      thriller            war        western  \n",
       "count  100000.00000  100000.00000  100000.000000  100000.000000  \n",
       "mean        0.12730       0.21872       0.093980       0.018540  \n",
       "std         0.33331       0.41338       0.291802       0.134894  \n",
       "min         0.00000       0.00000       0.000000       0.000000  \n",
       "25%         0.00000       0.00000       0.000000       0.000000  \n",
       "50%         0.00000       0.00000       0.000000       0.000000  \n",
       "75%         0.00000       0.00000       0.000000       0.000000  \n",
       "max         1.00000       1.00000       1.000000       1.000000  \n",
       "\n",
       "[8 rows x 25 columns]"
      ]
     },
     "execution_count": 47,
     "metadata": {},
     "output_type": "execute_result"
    }
   ],
   "source": [
    "db.describe()"
   ]
  },
  {
   "cell_type": "markdown",
   "id": "1aac30bf",
   "metadata": {},
   "source": [
    "# PCA"
   ]
  },
  {
   "cell_type": "markdown",
   "id": "a8d47e97",
   "metadata": {},
   "source": [
    "### building matrix "
   ]
  },
  {
   "cell_type": "code",
   "execution_count": 48,
   "id": "2879b560",
   "metadata": {},
   "outputs": [],
   "source": [
    "pca=PCA( n_components=2)"
   ]
  },
  {
   "cell_type": "code",
   "execution_count": 49,
   "id": "6ea7442b",
   "metadata": {},
   "outputs": [
    {
     "data": {
      "text/html": [
       "<style>#sk-container-id-4 {color: black;background-color: white;}#sk-container-id-4 pre{padding: 0;}#sk-container-id-4 div.sk-toggleable {background-color: white;}#sk-container-id-4 label.sk-toggleable__label {cursor: pointer;display: block;width: 100%;margin-bottom: 0;padding: 0.3em;box-sizing: border-box;text-align: center;}#sk-container-id-4 label.sk-toggleable__label-arrow:before {content: \"▸\";float: left;margin-right: 0.25em;color: #696969;}#sk-container-id-4 label.sk-toggleable__label-arrow:hover:before {color: black;}#sk-container-id-4 div.sk-estimator:hover label.sk-toggleable__label-arrow:before {color: black;}#sk-container-id-4 div.sk-toggleable__content {max-height: 0;max-width: 0;overflow: hidden;text-align: left;background-color: #f0f8ff;}#sk-container-id-4 div.sk-toggleable__content pre {margin: 0.2em;color: black;border-radius: 0.25em;background-color: #f0f8ff;}#sk-container-id-4 input.sk-toggleable__control:checked~div.sk-toggleable__content {max-height: 200px;max-width: 100%;overflow: auto;}#sk-container-id-4 input.sk-toggleable__control:checked~label.sk-toggleable__label-arrow:before {content: \"▾\";}#sk-container-id-4 div.sk-estimator input.sk-toggleable__control:checked~label.sk-toggleable__label {background-color: #d4ebff;}#sk-container-id-4 div.sk-label input.sk-toggleable__control:checked~label.sk-toggleable__label {background-color: #d4ebff;}#sk-container-id-4 input.sk-hidden--visually {border: 0;clip: rect(1px 1px 1px 1px);clip: rect(1px, 1px, 1px, 1px);height: 1px;margin: -1px;overflow: hidden;padding: 0;position: absolute;width: 1px;}#sk-container-id-4 div.sk-estimator {font-family: monospace;background-color: #f0f8ff;border: 1px dotted black;border-radius: 0.25em;box-sizing: border-box;margin-bottom: 0.5em;}#sk-container-id-4 div.sk-estimator:hover {background-color: #d4ebff;}#sk-container-id-4 div.sk-parallel-item::after {content: \"\";width: 100%;border-bottom: 1px solid gray;flex-grow: 1;}#sk-container-id-4 div.sk-label:hover label.sk-toggleable__label {background-color: #d4ebff;}#sk-container-id-4 div.sk-serial::before {content: \"\";position: absolute;border-left: 1px solid gray;box-sizing: border-box;top: 0;bottom: 0;left: 50%;z-index: 0;}#sk-container-id-4 div.sk-serial {display: flex;flex-direction: column;align-items: center;background-color: white;padding-right: 0.2em;padding-left: 0.2em;position: relative;}#sk-container-id-4 div.sk-item {position: relative;z-index: 1;}#sk-container-id-4 div.sk-parallel {display: flex;align-items: stretch;justify-content: center;background-color: white;position: relative;}#sk-container-id-4 div.sk-item::before, #sk-container-id-4 div.sk-parallel-item::before {content: \"\";position: absolute;border-left: 1px solid gray;box-sizing: border-box;top: 0;bottom: 0;left: 50%;z-index: -1;}#sk-container-id-4 div.sk-parallel-item {display: flex;flex-direction: column;z-index: 1;position: relative;background-color: white;}#sk-container-id-4 div.sk-parallel-item:first-child::after {align-self: flex-end;width: 50%;}#sk-container-id-4 div.sk-parallel-item:last-child::after {align-self: flex-start;width: 50%;}#sk-container-id-4 div.sk-parallel-item:only-child::after {width: 0;}#sk-container-id-4 div.sk-dashed-wrapped {border: 1px dashed gray;margin: 0 0.4em 0.5em 0.4em;box-sizing: border-box;padding-bottom: 0.4em;background-color: white;}#sk-container-id-4 div.sk-label label {font-family: monospace;font-weight: bold;display: inline-block;line-height: 1.2em;}#sk-container-id-4 div.sk-label-container {text-align: center;}#sk-container-id-4 div.sk-container {/* jupyter's `normalize.less` sets `[hidden] { display: none; }` but bootstrap.min.css set `[hidden] { display: none !important; }` so we also need the `!important` here to be able to override the default hidden behavior on the sphinx rendered scikit-learn.org. See: https://github.com/scikit-learn/scikit-learn/issues/21755 */display: inline-block !important;position: relative;}#sk-container-id-4 div.sk-text-repr-fallback {display: none;}</style><div id=\"sk-container-id-4\" class=\"sk-top-container\"><div class=\"sk-text-repr-fallback\"><pre>PCA(n_components=2)</pre><b>In a Jupyter environment, please rerun this cell to show the HTML representation or trust the notebook. <br />On GitHub, the HTML representation is unable to render, please try loading this page with nbviewer.org.</b></div><div class=\"sk-container\" hidden><div class=\"sk-item\"><div class=\"sk-estimator sk-toggleable\"><input class=\"sk-toggleable__control sk-hidden--visually\" id=\"sk-estimator-id-4\" type=\"checkbox\" checked><label for=\"sk-estimator-id-4\" class=\"sk-toggleable__label sk-toggleable__label-arrow\">PCA</label><div class=\"sk-toggleable__content\"><pre>PCA(n_components=2)</pre></div></div></div></div></div>"
      ],
      "text/plain": [
       "PCA(n_components=2)"
      ]
     },
     "execution_count": 49,
     "metadata": {},
     "output_type": "execute_result"
    }
   ],
   "source": [
    "pca.fit(db)"
   ]
  },
  {
   "cell_type": "code",
   "execution_count": 50,
   "id": "11ce39cf",
   "metadata": {},
   "outputs": [
    {
     "data": {
      "text/plain": [
       "array([0.60572568, 0.39328145])"
      ]
     },
     "execution_count": 50,
     "metadata": {},
     "output_type": "execute_result"
    }
   ],
   "source": [
    "pca.explained_variance_ratio_"
   ]
  },
  {
   "cell_type": "markdown",
   "id": "d37a292b",
   "metadata": {},
   "source": [
    "As duas primeiras componentes são responsáveis por 99,900713% da variance "
   ]
  },
  {
   "cell_type": "code",
   "execution_count": null,
   "id": "26b43f3b",
   "metadata": {},
   "outputs": [],
   "source": []
  }
 ],
 "metadata": {
  "kernelspec": {
   "display_name": "Python 3 (ipykernel)",
   "language": "python",
   "name": "python3"
  },
  "language_info": {
   "codemirror_mode": {
    "name": "ipython",
    "version": 3
   },
   "file_extension": ".py",
   "mimetype": "text/x-python",
   "name": "python",
   "nbconvert_exporter": "python",
   "pygments_lexer": "ipython3",
   "version": "3.10.6"
  },
  "vscode": {
   "interpreter": {
    "hash": "916dbcbb3f70747c44a77c7bcd40155683ae19c65e1c03b4aa3499c5328201f1"
   }
  }
 },
 "nbformat": 4,
 "nbformat_minor": 5
}
