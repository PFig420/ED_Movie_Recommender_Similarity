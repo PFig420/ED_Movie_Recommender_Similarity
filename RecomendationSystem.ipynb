{
 "cells": [
  {
   "cell_type": "code",
   "execution_count": null,
   "id": "d676d9fc",
   "metadata": {},
   "outputs": [],
   "source": [
    "import numpy as np\n",
    "import pandas as pd\n"
   ]
  },
  {
   "cell_type": "markdown",
   "id": "b6c5b4b2",
   "metadata": {},
   "source": [
    "# Load User Data"
   ]
  },
  {
   "cell_type": "code",
   "execution_count": 11,
   "id": "1bbf74c6",
   "metadata": {},
   "outputs": [
    {
     "name": "stdout",
     "output_type": "stream",
     "text": [
      "   uid  age sex         job zipcode\n",
      "0    1   24   M  technician   85711\n",
      "1    2   53   F       other   94043\n",
      "2    3   23   M      writer   32067\n",
      "3    4   24   M  technician   43537\n",
      "4    5   33   F       other   15213\n"
     ]
    }
   ],
   "source": [
    "user_data = pd.read_csv('ml-100k/u.user' , sep='|', header=None , names=[\"uid\", \"age\", \"sex\" ,\"job\", \"zipcode\"])\n",
    "#user_data.describe()\n",
    "print(user_data.head())"
   ]
  },
  {
   "cell_type": "markdown",
   "id": "21de405b",
   "metadata": {},
   "source": [
    "# Load Movie Data"
   ]
  },
  {
   "cell_type": "code",
   "execution_count": 17,
   "id": "4ff210c5",
   "metadata": {},
   "outputs": [
    {
     "name": "stdout",
     "output_type": "stream",
     "text": [
      "   movieid              title release_date  video_release_date  \\\n",
      "0        1   Toy Story (1995)  01-Jan-1995                 NaN   \n",
      "1        2   GoldenEye (1995)  01-Jan-1995                 NaN   \n",
      "2        3  Four Rooms (1995)  01-Jan-1995                 NaN   \n",
      "3        4  Get Shorty (1995)  01-Jan-1995                 NaN   \n",
      "4        5     Copycat (1995)  01-Jan-1995                 NaN   \n",
      "\n",
      "                                                imdb  unknown  action  \\\n",
      "0  http://us.imdb.com/M/title-exact?Toy%20Story%2...        0       0   \n",
      "1  http://us.imdb.com/M/title-exact?GoldenEye%20(...        0       1   \n",
      "2  http://us.imdb.com/M/title-exact?Four%20Rooms%...        0       0   \n",
      "3  http://us.imdb.com/M/title-exact?Get%20Shorty%...        0       1   \n",
      "4  http://us.imdb.com/M/title-exact?Copycat%20(1995)        0       0   \n",
      "\n",
      "   adventure  animation  children  ...  fantasy  noir  horror  musical  \\\n",
      "0          0          1         1  ...        0     0       0        0   \n",
      "1          1          0         0  ...        0     0       0        0   \n",
      "2          0          0         0  ...        0     0       0        0   \n",
      "3          0          0         0  ...        0     0       0        0   \n",
      "4          0          0         0  ...        0     0       0        0   \n",
      "\n",
      "   mistery  romance  scifi  thriller  war  western  \n",
      "0        0        0      0         0    0        0  \n",
      "1        0        0      0         1    0        0  \n",
      "2        0        0      0         1    0        0  \n",
      "3        0        0      0         0    0        0  \n",
      "4        0        0      0         1    0        0  \n",
      "\n",
      "[5 rows x 24 columns]\n"
     ]
    }
   ],
   "source": [
    "movies_data = pd.read_csv('ml-100k/u.item' , sep='|', header=None , names=[\"movieid\", \"title\" ,\"release_date\", \"video_release_date\", \"imdb\", \"unknown\", \"action\", \"adventure\", \"animation\", \"children\", \"comedy\", \"crime\", \"documnetary\", \"drama\", \"fantasy\", \"noir\", \"horror\", \"musical\", \"mistery\", \"romance\", \"scifi\", \"thriller\", \"war\", \"western\"])\n",
    "print(movies_data.head())"
   ]
  },
  {
   "cell_type": "markdown",
   "id": "c32da1f3",
   "metadata": {},
   "source": [
    "# Load Ratings Data"
   ]
  },
  {
   "cell_type": "code",
   "execution_count": 12,
   "id": "15272ae7",
   "metadata": {},
   "outputs": [
    {
     "name": "stdout",
     "output_type": "stream",
     "text": [
      "   user_id  movie_id  rating  timestamp\n",
      "0      196       242       3  881250949\n",
      "1      186       302       3  891717742\n",
      "2       22       377       1  878887116\n",
      "3      244        51       2  880606923\n",
      "4      166       346       1  886397596\n"
     ]
    }
   ],
   "source": [
    "# Ratings\n",
    "r_cols = ['user_id', 'movie_id', 'rating', 'timestamp']\n",
    "\n",
    "ratings = pd.read_csv(\"ml-100k/u.data\", sep=\"\\t\", names=r_cols, encoding='latin-1')\n",
    "\n",
    "print(ratings.head())"
   ]
  },
  {
   "cell_type": "markdown",
   "id": "882329af",
   "metadata": {},
   "source": [
    "# Sparsity"
   ]
  },
  {
   "cell_type": "markdown",
   "id": "f63014e3",
   "metadata": {},
   "source": [
    "The Sparsity of a matrix is measured by the number of cells that do not have a value (meaning . As it can be seen below, the matrix of ratings in this dataset is going to be very sparse, having a sparsity of 93.7%, which means that the majority of users only rated a small percentage of the movies."
   ]
  },
  {
   "cell_type": "code",
   "execution_count": 15,
   "id": "c7c917c4",
   "metadata": {},
   "outputs": [
    {
     "name": "stdout",
     "output_type": "stream",
     "text": [
      "Sparsity: 0.937\n"
     ]
    }
   ],
   "source": [
    "sparsity = 1 - len(ratings) / (len(user_data) * len(movies_data))\n",
    "print(f\"Sparsity: {sparsity:.3f}\")"
   ]
  },
  {
   "cell_type": "code",
   "execution_count": null,
   "id": "4d04b142",
   "metadata": {},
   "outputs": [],
   "source": []
  },
  {
   "cell_type": "code",
   "execution_count": null,
   "id": "7b4c6350",
   "metadata": {},
   "outputs": [],
   "source": []
  },
  {
   "cell_type": "code",
   "execution_count": null,
   "id": "a3c8e956",
   "metadata": {},
   "outputs": [],
   "source": []
  },
  {
   "cell_type": "code",
   "execution_count": null,
   "id": "68b50bad",
   "metadata": {},
   "outputs": [],
   "source": []
  },
  {
   "cell_type": "code",
   "execution_count": null,
   "id": "1d8445ff",
   "metadata": {},
   "outputs": [],
   "source": []
  }
 ],
 "metadata": {
  "kernelspec": {
   "display_name": "Python 3 (ipykernel)",
   "language": "python",
   "name": "python3"
  },
  "language_info": {
   "codemirror_mode": {
    "name": "ipython",
    "version": 3
   },
   "file_extension": ".py",
   "mimetype": "text/x-python",
   "name": "python",
   "nbconvert_exporter": "python",
   "pygments_lexer": "ipython3",
   "version": "3.9.7"
  },
  "vscode": {
   "interpreter": {
    "hash": "916dbcbb3f70747c44a77c7bcd40155683ae19c65e1c03b4aa3499c5328201f1"
   }
  }
 },
 "nbformat": 4,
 "nbformat_minor": 5
}
